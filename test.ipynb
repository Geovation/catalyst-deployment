{
 "cells": [
  {
   "cell_type": "code",
   "execution_count": null,
   "id": "b768a676",
   "metadata": {},
   "outputs": [],
   "source": [
    "!aws configure set aws_access_key_id <your_access_key_id>\n",
    "!aws configure set aws_secret_access_key <your_secret_access_key>\n",
    "!aws configure set default.region <your_default_region>"
   ]
  },
  {
   "cell_type": "code",
   "execution_count": null,
   "id": "82c2fafe",
   "metadata": {},
   "outputs": [],
   "source": [
    "aws cloudformation create-stack --stack-name catalyst-stack-cli-demo --template-body file://main.yml --parameters ParameterKey=ApiGatewayStageName,ParameterValue=prod ParameterKey=ApiKeyName,ParameterValue=GatewayApiKey ParameterKey=OSDataHubProjectSecret,ParameterValue=geRLKIAg7TbGMyzo ParameterKey=OSDataHubProjectKey,ParameterValue=YM57GQW4eAaABqG2Vz3fhALu7Knu8f4D"
   ]
  }
 ],
 "metadata": {
  "kernelspec": {
   "display_name": ".venv",
   "language": "python",
   "name": "python3"
  },
  "language_info": {
   "name": "python",
   "version": "3.12.11"
  }
 },
 "nbformat": 4,
 "nbformat_minor": 5
}
